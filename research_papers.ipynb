{
 "cells": [
  {
   "cell_type": "code",
   "execution_count": 2,
   "metadata": {
    "id": "J29DHE5DeW_p"
   },
   "outputs": [
    {
     "ename": "ModuleNotFoundError",
     "evalue": "No module named 'sklearn'",
     "output_type": "error",
     "traceback": [
      "\u001b[0;31m---------------------------------------------------------------------------\u001b[0m",
      "\u001b[0;31mModuleNotFoundError\u001b[0m                       Traceback (most recent call last)",
      "\u001b[0;32m<ipython-input-2-627ec726864f>\u001b[0m in \u001b[0;36m<module>\u001b[0;34m\u001b[0m\n\u001b[1;32m      2\u001b[0m \u001b[0;32mimport\u001b[0m \u001b[0mio\u001b[0m\u001b[0;34m\u001b[0m\u001b[0;34m\u001b[0m\u001b[0m\n\u001b[1;32m      3\u001b[0m \u001b[0;32mimport\u001b[0m \u001b[0mnumpy\u001b[0m \u001b[0;32mas\u001b[0m \u001b[0mnp\u001b[0m\u001b[0;34m\u001b[0m\u001b[0;34m\u001b[0m\u001b[0m\n\u001b[0;32m----> 4\u001b[0;31m \u001b[0;32mfrom\u001b[0m \u001b[0msklearn\u001b[0m\u001b[0;34m.\u001b[0m\u001b[0mmetrics\u001b[0m\u001b[0;34m.\u001b[0m\u001b[0mpairwise\u001b[0m \u001b[0;32mimport\u001b[0m \u001b[0mlinear_kernel\u001b[0m\u001b[0;34m\u001b[0m\u001b[0;34m\u001b[0m\u001b[0m\n\u001b[0m\u001b[1;32m      5\u001b[0m \u001b[0;32mfrom\u001b[0m \u001b[0msklearn\u001b[0m\u001b[0;34m.\u001b[0m\u001b[0mfeature_extraction\u001b[0m\u001b[0;34m.\u001b[0m\u001b[0mtext\u001b[0m \u001b[0;32mimport\u001b[0m \u001b[0mTfidfVectorizer\u001b[0m\u001b[0;34m\u001b[0m\u001b[0;34m\u001b[0m\u001b[0m\n\u001b[1;32m      6\u001b[0m \u001b[0;34m\u001b[0m\u001b[0m\n",
      "\u001b[0;31mModuleNotFoundError\u001b[0m: No module named 'sklearn'"
     ]
    }
   ],
   "source": [
    "import pandas as pd\n",
    "import io\n",
    "import numpy as np\n",
    "from sklearn.metrics.pairwise import linear_kernel\n",
    "from sklearn.feature_extraction.text import TfidfVectorizer\n",
    "\n",
    "from google.colab import drive\n",
    "drive.mount('/content/drive')"
   ]
  },
  {
   "cell_type": "code",
   "execution_count": 178,
   "metadata": {
    "id": "GwbBG7C3-Osp"
   },
   "outputs": [],
   "source": [
    "def read_data():\n",
    "  global research_papers\n",
    "  research_papers = pd.read_csv('/research_papers.csv', engine='python')\n",
    "  return research_papers"
   ]
  },
  {
   "cell_type": "code",
   "execution_count": null,
   "metadata": {
    "id": "i7tOQSRHvKFX"
   },
   "outputs": [],
   "source": [
    "def get_recommendations_based_on_title(title, cosine_sim, indices):\n",
    "    idx = indices[title]\n",
    "    sim_scores = list(enumerate(cosine_sim[idx]))\n",
    "    sim_scores = sorted(sim_scores, key=lambda x: x[1], reverse=True)\n",
    "    sim_scores = sim_scores[1:11]\n",
    "    research_indices = [i[0] for i in sim_scores]\n",
    "    return research_papers.loc[:,[\"Item Type\",\"Publication Year\", \"Author\", \"Title\"]].iloc[research_indices]"
   ]
  },
  {
   "cell_type": "code",
   "execution_count": null,
   "metadata": {
    "id": "kKA647NzuVpi"
   },
   "outputs": [],
   "source": [
    "def get_similar_title_papers(name):\n",
    "    tfidf = TfidfVectorizer()\n",
    "    research_papers['Title'] = research_papers['Title'].fillna('')\n",
    "    tfidf_matrix = tfidf.fit_transform(research_papers['Title'])\n",
    "    cosine_sim = linear_kernel(tfidf_matrix, tfidf_matrix)\n",
    "    indices = pd.Series(research_papers.index, index=research_papers['Title']).drop_duplicates()\n",
    "    return get_recommendations_based_on_title(name, cosine_sim, indices)"
   ]
  },
  {
   "cell_type": "code",
   "execution_count": null,
   "metadata": {
    "id": "D--vRxjYx6PD"
   },
   "outputs": [],
   "source": [
    "def get_recommendations_based_on_abstract(abstract, cosine_sim, indices):\n",
    "    idx = indices[abstract]\n",
    "    sim_scores = list(enumerate(cosine_sim[idx]))\n",
    "    sim_scores = sorted(sim_scores, key=lambda x: x[1], reverse=True)\n",
    "    sim_scores = sim_scores[1:11]\n",
    "    research_indices = [i[0] for i in sim_scores]\n",
    "    return research_papers.loc[:,[\"Item Type\",\"Publication Year\", \"Author\", \"Title\"]].iloc[research_indices]"
   ]
  },
  {
   "cell_type": "code",
   "execution_count": null,
   "metadata": {
    "id": "f8KILZ_tx6Y0"
   },
   "outputs": [],
   "source": [
    "def get_similar_abstract_papers(name):\n",
    "    tfidf = TfidfVectorizer()\n",
    "    research_papers['Abstract Note'] = research_papers['Abstract Note'].fillna('')\n",
    "    tfidf_matrix = tfidf.fit_transform(research_papers['Abstract Note'])\n",
    "    cosine_sum = linear_kernel(tfidf_matrix, tfidf_matrix)\n",
    "    indices = pd.Series(research_papers.index, index=research_papers['Abstract Note'])\n",
    "    return get_recommendations_based_on_abstract(name, cosine_sum, indices)"
   ]
  },
  {
   "cell_type": "code",
   "execution_count": null,
   "metadata": {
    "id": "Sg-rVlyT5wQj"
   },
   "outputs": [],
   "source": [
    "def get_recommendations_based_on_author(author):\n",
    "  data = research_papers[research_papers['Author'] == author]\n",
    "  return data.loc[:,[\"Item Type\",\"Publication Year\", \"Author\", \"Title\"]]"
   ]
  },
  {
   "cell_type": "code",
   "execution_count": null,
   "metadata": {
    "id": "AZpyWW0P7gZg"
   },
   "outputs": [],
   "source": [
    "def get_recommendations_based_on_type(item_type):\n",
    "  data = research_papers[research_papers['Item Type'] == item_type]\n",
    "  return data.loc[:,[\"Item Type\",\"Publication Year\", \"Author\", \"Title\"]]"
   ]
  },
  {
   "cell_type": "code",
   "execution_count": 1,
   "metadata": {
    "colab": {
     "base_uri": "https://localhost:8080/"
    },
    "id": "GyFhlgGjuM-x",
    "outputId": "34aab7d4-a3fe-4de5-973e-8c860f969d93"
   },
   "outputs": [
    {
     "name": "stdout",
     "output_type": "stream",
     "text": [
      "Welcome to our Research Paper recommendation system.\n",
      "These are some papers we recommend based on your preferences:\n",
      "\n"
     ]
    },
    {
     "ename": "NameError",
     "evalue": "name 'get_similar_title_papers' is not defined",
     "output_type": "error",
     "traceback": [
      "\u001b[0;31m---------------------------------------------------------------------------\u001b[0m",
      "\u001b[0;31mNameError\u001b[0m                                 Traceback (most recent call last)",
      "\u001b[0;32m<ipython-input-1-c2f29812850a>\u001b[0m in \u001b[0;36m<module>\u001b[0;34m\u001b[0m\n\u001b[1;32m      2\u001b[0m \u001b[0mprint\u001b[0m\u001b[0;34m(\u001b[0m\u001b[0;34m'These are some papers we recommend based on your preferences:\\n'\u001b[0m\u001b[0;34m)\u001b[0m\u001b[0;34m\u001b[0m\u001b[0;34m\u001b[0m\u001b[0m\n\u001b[1;32m      3\u001b[0m \u001b[0;34m\u001b[0m\u001b[0m\n\u001b[0;32m----> 4\u001b[0;31m \u001b[0mpapers_by_title\u001b[0m \u001b[0;34m=\u001b[0m \u001b[0mget_similar_title_papers\u001b[0m\u001b[0;34m(\u001b[0m\u001b[0;34m'\"Alone Together?\": Exploring the Social Dynamics of Massively Multiplayer Online Games'\u001b[0m\u001b[0;34m)\u001b[0m\u001b[0;34m\u001b[0m\u001b[0;34m\u001b[0m\u001b[0m\n\u001b[0m\u001b[1;32m      5\u001b[0m \u001b[0mpapers_by_abstract\u001b[0m \u001b[0;34m=\u001b[0m \u001b[0mget_similar_abstract_papers\u001b[0m\u001b[0;34m(\u001b[0m\u001b[0;34m'Massively Multiplayer Online Games (MMOGs) routinely attract millions of players but little empirical data is available to assess their players\\' social experiences. In this paper, we use longitudinal data collected directly from the game to examine play and grouping patterns in one of the largest MMOGs: World of Warcraft. Our observations show that the prevalence and extent of social activities in MMOGs might have been previously over-estimated, and that gaming communities face important challenges affecting their cohesion and eventual longevity. We discuss the implications of our findings for the design of future games and other online social spaces.'\u001b[0m\u001b[0;34m)\u001b[0m\u001b[0;34m\u001b[0m\u001b[0;34m\u001b[0m\u001b[0m\n\u001b[1;32m      6\u001b[0m \u001b[0mpapers_by_author\u001b[0m \u001b[0;34m=\u001b[0m \u001b[0mget_recommendations_based_on_author\u001b[0m\u001b[0;34m(\u001b[0m\u001b[0;34m'Ducheneaut, Nicolas; Yee, Nicholas; Nickell, Eric; Moore, Robert J.'\u001b[0m\u001b[0;34m)\u001b[0m\u001b[0;34m\u001b[0m\u001b[0;34m\u001b[0m\u001b[0m\n",
      "\u001b[0;31mNameError\u001b[0m: name 'get_similar_title_papers' is not defined"
     ]
    }
   ],
   "source": [
    "print('Welcome to our Research Paper recommendation system.')\n",
    "print('These are some papers we recommend based on your preferences:\\n')\n",
    "\n",
    "papers_by_title = get_similar_title_papers('\"Alone Together?\": Exploring the Social Dynamics of Massively Multiplayer Online Games')\n",
    "papers_by_abstract = get_similar_abstract_papers('Massively Multiplayer Online Games (MMOGs) routinely attract millions of players but little empirical data is available to assess their players\\' social experiences. In this paper, we use longitudinal data collected directly from the game to examine play and grouping patterns in one of the largest MMOGs: World of Warcraft. Our observations show that the prevalence and extent of social activities in MMOGs might have been previously over-estimated, and that gaming communities face important challenges affecting their cohesion and eventual longevity. We discuss the implications of our findings for the design of future games and other online social spaces.')\n",
    "papers_by_author = get_recommendations_based_on_author('Ducheneaut, Nicolas; Yee, Nicholas; Nickell, Eric; Moore, Robert J.')\n",
    "papers_by_type = get_recommendations_based_on_type('book')\n",
    "\n",
    "#read_data()\n",
    "#papers_by_title\n",
    "#papers_by_abstract\n",
    "#papers_by_author\n",
    "#papers_by_type\n"
   ]
  },
  {
   "cell_type": "markdown",
   "metadata": {
    "id": "op79RNDEQaBo"
   },
   "source": []
  }
 ],
 "metadata": {
  "colab": {
   "collapsed_sections": [],
   "name": "research_papers.ipynb",
   "provenance": [],
   "toc_visible": true
  },
  "kernelspec": {
   "display_name": "Python 3",
   "language": "python",
   "name": "python3"
  },
  "language_info": {
   "codemirror_mode": {
    "name": "ipython",
    "version": 3
   },
   "file_extension": ".py",
   "mimetype": "text/x-python",
   "name": "python",
   "nbconvert_exporter": "python",
   "pygments_lexer": "ipython3",
   "version": "3.7.3"
  }
 },
 "nbformat": 4,
 "nbformat_minor": 1
}
